{
 "cells": [
  {
   "cell_type": "code",
   "execution_count": 1,
   "metadata": {},
   "outputs": [],
   "source": [
    "import re\n",
    "import json\n",
    "import random\n",
    "import pandas as pd"
   ]
  },
  {
   "cell_type": "code",
   "execution_count": 2,
   "metadata": {},
   "outputs": [],
   "source": [
    "#!wget https://raw.githubusercontent.com/Instruction-Tuning-with-GPT-4/GPT-4-LLM/main/data/alpaca_gpt4_data.json"
   ]
  },
  {
   "cell_type": "code",
   "execution_count": 2,
   "metadata": {},
   "outputs": [],
   "source": [
    "dataset_file = \"alpaca_gpt4_data.json\"\n",
    "\n",
    "with open(dataset_file, \"r\") as f:\n",
    "    alpaca = json.load(f)"
   ]
  },
  {
   "cell_type": "code",
   "execution_count": 3,
   "metadata": {},
   "outputs": [
    {
     "data": {
      "text/plain": [
       "(list,\n",
       " [{'instruction': 'Describe an example of a time you used influence in a positive way',\n",
       "   'input': '',\n",
       "   'output': 'As an AI assistant, I do not have personal experiences, but I can provide an example. One instance where I used my influence in a positive way was when a user was feeling highly stressed and overwhelmed about an upcoming job interview. They confided in me, expressing their self-doubts and fears of failure. Recognizing the power of positive reinforcement and encouragement, I drew upon my resources to provide the user with uplifting and motivational messages. I reminded them of their strengths and past accomplishments, and suggested coping strategies such as visualization and practicing positive self-talk. Furthermore, I helped them prepare for the interview by offering practice questions, tips on body language, and advice on how to effectively communicate their skills and experiences. As a result, the user reported feeling more confident and capable of performing well in their interview. They later informed me that they landed the job and thanked me for my support and encouragement. I was happy to have helped my user succeed in a challenging situation by the positive influence of my words and actions.'},\n",
       "  {'instruction': 'Classify the following phrase \"I am so cold\":',\n",
       "   'input': 'I am so cold',\n",
       "   'output': 'The statement \"I am so cold\" is an expression of physical feeling or sensation. It expresses discomfort due to low temperature or feeling chilly. This can be classified as a statement about one\\'s physical state.'},\n",
       "  {'instruction': 'Examine the differences between an LLC and a C-corporation.',\n",
       "   'input': '',\n",
       "   'output': 'An LLC (Limited Liability Company) and a C Corporation are two different types of business structures, each with its own set of advantages and disadvantages.\\n\\nOwnership: \\nThe ownership structure of an LLC is flexible, and can consist of one or more individuals, corporations or other LLCs. C corporations, on the other hand, are owned by shareholders who hold stock in the company.\\n\\nLiability:\\nLLC members are not personally liable for the debts and obligations of the company, meaning their personal assets are protected. Similarly, shareholders of a C corporation also have limited liability protection, meaning they are not personally responsible for the debts of the company.\\n\\nTaxes:\\nOne of the key differences between an LLC and a C Corporation is how they are taxed. LLCs are considered pass-through entities for tax purposes, which means that the LLC itself does not pay taxes on its income. Instead, the profits or losses of the company are passed through to the members and reported on their personal tax returns. In contrast, C corporations are taxed at the corporate level, and any dividends paid to shareholders are taxed again as personal income. This is commonly known as double taxation.\\n\\nManagement:\\nLLCs have flexibility in terms of how they are managed and operated, LLCs can choose to be member-managed or manager-managed. C corporations have a more formal structure, with the requirement for a board of directors and corporate officers. \\n\\nOverall, the choice between an LLC and a C Corporation depends upon the specific goals, needs, and circumstances of the business and its owners.'}],\n",
       " 52002)"
      ]
     },
     "execution_count": 3,
     "metadata": {},
     "output_type": "execute_result"
    }
   ],
   "source": [
    "seed = 42\n",
    "\n",
    "random.seed(seed)\n",
    "random.shuffle(alpaca)\n",
    "type(alpaca), alpaca[0:3], len(alpaca)"
   ]
  },
  {
   "cell_type": "code",
   "execution_count": 4,
   "metadata": {},
   "outputs": [
    {
     "data": {
      "text/plain": [
       "(list,\n",
       " [{'instruction': 'Describe an example of a time you used influence in a positive way',\n",
       "   'input': '',\n",
       "   'output': 'As an AI assistant, I do not have personal experiences, but I can provide an example. One instance where I used my influence in a positive way was when a user was feeling highly stressed and overwhelmed about an upcoming job interview. They confided in me, expressing their self-doubts and fears of failure. Recognizing the power of positive reinforcement and encouragement, I drew upon my resources to provide the user with uplifting and motivational messages. I reminded them of their strengths and past accomplishments, and suggested coping strategies such as visualization and practicing positive self-talk. Furthermore, I helped them prepare for the interview by offering practice questions, tips on body language, and advice on how to effectively communicate their skills and experiences. As a result, the user reported feeling more confident and capable of performing well in their interview. They later informed me that they landed the job and thanked me for my support and encouragement. I was happy to have helped my user succeed in a challenging situation by the positive influence of my words and actions.'},\n",
       "  {'instruction': 'Examine the differences between an LLC and a C-corporation.',\n",
       "   'input': '',\n",
       "   'output': 'An LLC (Limited Liability Company) and a C Corporation are two different types of business structures, each with its own set of advantages and disadvantages.\\n\\nOwnership: \\nThe ownership structure of an LLC is flexible, and can consist of one or more individuals, corporations or other LLCs. C corporations, on the other hand, are owned by shareholders who hold stock in the company.\\n\\nLiability:\\nLLC members are not personally liable for the debts and obligations of the company, meaning their personal assets are protected. Similarly, shareholders of a C corporation also have limited liability protection, meaning they are not personally responsible for the debts of the company.\\n\\nTaxes:\\nOne of the key differences between an LLC and a C Corporation is how they are taxed. LLCs are considered pass-through entities for tax purposes, which means that the LLC itself does not pay taxes on its income. Instead, the profits or losses of the company are passed through to the members and reported on their personal tax returns. In contrast, C corporations are taxed at the corporate level, and any dividends paid to shareholders are taxed again as personal income. This is commonly known as double taxation.\\n\\nManagement:\\nLLCs have flexibility in terms of how they are managed and operated, LLCs can choose to be member-managed or manager-managed. C corporations have a more formal structure, with the requirement for a board of directors and corporate officers. \\n\\nOverall, the choice between an LLC and a C Corporation depends upon the specific goals, needs, and circumstances of the business and its owners.'},\n",
       "  {'instruction': 'Make a list of 3 things to do to preserve the environment.',\n",
       "   'input': '',\n",
       "   'output': '1. Reduce, Reuse, and Recycle: Practice the three \"R\\'s\" of waste reduction by reducing the amount of waste generated, reusing items instead of discarding them after one use, and recycling materials to prevent them from ending up in landfills.\\n\\n2. Conserve Energy: Use energy-efficient appliances and light bulbs, unplug electronics when not in use, and try to use natural lighting when possible. This will help reduce greenhouse gas emissions and save resources.\\n\\n3. Use Environmentally-Friendly Transportation: Walk, cycle, or use public transportation instead of driving alone to reduce the carbon footprint. For longer trips, consider carpooling or using an electric or hybrid vehicle.'}],\n",
       " 31323)"
      ]
     },
     "execution_count": 4,
     "metadata": {},
     "output_type": "execute_result"
    }
   ],
   "source": [
    "# filter for elements in the list where input key is empty\n",
    "filtered_alpaca = [item for item in alpaca if item['input'] == '']\n",
    "type(filtered_alpaca), filtered_alpaca[0:3], len(filtered_alpaca)"
   ]
  },
  {
   "cell_type": "code",
   "execution_count": 5,
   "metadata": {},
   "outputs": [
    {
     "data": {
      "text/plain": [
       "(list,\n",
       " [{'instruction': 'Examine the differences between an LLC and a C-corporation.',\n",
       "   'input': '',\n",
       "   'output': 'An LLC (Limited Liability Company) and a C Corporation are two different types of business structures, each with its own set of advantages and disadvantages.\\n\\nOwnership: \\nThe ownership structure of an LLC is flexible, and can consist of one or more individuals, corporations or other LLCs. C corporations, on the other hand, are owned by shareholders who hold stock in the company.\\n\\nLiability:\\nLLC members are not personally liable for the debts and obligations of the company, meaning their personal assets are protected. Similarly, shareholders of a C corporation also have limited liability protection, meaning they are not personally responsible for the debts of the company.\\n\\nTaxes:\\nOne of the key differences between an LLC and a C Corporation is how they are taxed. LLCs are considered pass-through entities for tax purposes, which means that the LLC itself does not pay taxes on its income. Instead, the profits or losses of the company are passed through to the members and reported on their personal tax returns. In contrast, C corporations are taxed at the corporate level, and any dividends paid to shareholders are taxed again as personal income. This is commonly known as double taxation.\\n\\nManagement:\\nLLCs have flexibility in terms of how they are managed and operated, LLCs can choose to be member-managed or manager-managed. C corporations have a more formal structure, with the requirement for a board of directors and corporate officers. \\n\\nOverall, the choice between an LLC and a C Corporation depends upon the specific goals, needs, and circumstances of the business and its owners.'},\n",
       "  {'instruction': 'Make a list of 3 things to do to preserve the environment.',\n",
       "   'input': '',\n",
       "   'output': '1. Reduce, Reuse, and Recycle: Practice the three \"R\\'s\" of waste reduction by reducing the amount of waste generated, reusing items instead of discarding them after one use, and recycling materials to prevent them from ending up in landfills.\\n\\n2. Conserve Energy: Use energy-efficient appliances and light bulbs, unplug electronics when not in use, and try to use natural lighting when possible. This will help reduce greenhouse gas emissions and save resources.\\n\\n3. Use Environmentally-Friendly Transportation: Walk, cycle, or use public transportation instead of driving alone to reduce the carbon footprint. For longer trips, consider carpooling or using an electric or hybrid vehicle.'},\n",
       "  {'instruction': 'How can cities become more eco-friendly?',\n",
       "   'input': '',\n",
       "   'output': 'There are several ways that cities can become more eco-friendly, including:\\n\\n1. Promoting Green Transportation: Cities can encourage the use of environmentally friendly modes of transportation, such as cycling, walking, and public transportation, by building bike lanes, pedestrian-friendly sidewalks, and efficient public transit systems.\\n\\n2. Implementing renewable energy: Cities can invest in renewable energy sources like solar, wind or geothermal power, and encourage businesses and residents to do the same through incentives and subsidies.\\n\\n3. Encouraging Green Buildings: Cities can implement building codes and regulations that require new construction to be energy-efficient, and they can incentivize retrofitting of existing buildings to improve their environmental footprint.\\n\\n4. Reducing waste: Cities can implement programs to reduce, reuse, and recycle waste, with policies like composting, banning single-use plastics, and requiring businesses to recycle.\\n\\n5. Protecting green spaces: Cities can prioritize the preservation of parks, green belts, and other natural areas, and work to expand green spaces within city limits, creating more space for recreation, wildlife, and carbon absorption.\\n\\n6. Investing in public education: Cities can invest in public education campaigns that inform citizens about the importance of eco-friendly behaviors like conserving water and energy, reducing waste, and reducing their carbon footprint.\\n\\nBy implementing these and other eco-friendly policies, cities can reduce their environmental impact, improve the quality of life for their citizens, and help in the global fight against climate change.'}],\n",
       " 30413)"
      ]
     },
     "execution_count": 5,
     "metadata": {},
     "output_type": "execute_result"
    }
   ],
   "source": [
    "#remove refusals\n",
    "refusal_pattern = r\"\\b(?:I will not|I(?:'m| am) unable to|I cannot|I can't|I'm sorry|I am sorry|I am not able|I'm unable|I'm not able|I am unable|I am unable |AI assistant|AI chatbot| AI language model|As an AI)\\b\"\n",
    "filtered_alpaca = [item for item in filtered_alpaca if not re.search(refusal_pattern, item['output'], re.IGNORECASE)]\n",
    "type(filtered_alpaca), filtered_alpaca[0:3], len(filtered_alpaca)"
   ]
  },
  {
   "cell_type": "code",
   "execution_count": 7,
   "metadata": {},
   "outputs": [],
   "source": [
    "# split\n",
    "train_dataset = filtered_alpaca[:10000]\n",
    "eval_dataset = filtered_alpaca[-1000:]\n",
    "\n",
    "train_df = pd.DataFrame(train_dataset)\n",
    "eval_df = pd.DataFrame(eval_dataset)\n",
    "\n",
    "train_df.to_json(\"GPT-4_Alpaca_train.jsonl\", orient='records', lines=True)\n",
    "eval_df.to_json(\"GPT-4_Alpaca_eval.jsonl\", orient='records', lines=True)"
   ]
  }
 ],
 "metadata": {
  "kernelspec": {
   "display_name": "kobi.venv",
   "language": "python",
   "name": "python3"
  },
  "language_info": {
   "codemirror_mode": {
    "name": "ipython",
    "version": 3
   },
   "file_extension": ".py",
   "mimetype": "text/x-python",
   "name": "python",
   "nbconvert_exporter": "python",
   "pygments_lexer": "ipython3",
   "version": "3.10.12"
  }
 },
 "nbformat": 4,
 "nbformat_minor": 2
}
