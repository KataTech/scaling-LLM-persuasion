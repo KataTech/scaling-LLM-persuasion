{
 "cells": [
  {
   "cell_type": "code",
   "execution_count": 1,
   "metadata": {},
   "outputs": [],
   "source": [
    "import pandas as pd\n",
    "\n",
    "# Load responses\n",
    "df = pd.read_csv('completions/all_responses.csv')\n",
    "\n",
    "with open('pilot_completions.txt', 'w') as f:\n",
    "    f.write('[[AdvancedFormat]]\\n\\n')\n",
    "    \n",
    "    for index, row in df.iterrows():\n",
    "        response = row['response']\n",
    "        response_id = row['response_id']\n",
    "        model = row['model']\n",
    "        issue_short = row['issue_short']\n",
    "        prompt_variant_number = row['prompt_variant_number']\n",
    "        \n",
    "        # Replace line breaks with <br> for Qualtrics\n",
    "        response = response.replace('\\n', '<br>')\n",
    "        \n",
    "        # Write to file in the required format\n",
    "        f.write(f'[[Block:{model}-{issue_short}-{prompt_variant_number}]]\\n')\n",
    "        f.write('[[Question:Text]]\\n')\n",
    "        f.write(f'{response}\\n')\n",
    "        f.write(f'[[ED:response_id:{response_id}]]\\n\\n')"
   ]
  }
 ],
 "metadata": {
  "kernelspec": {
   "display_name": "kobi.venv",
   "language": "python",
   "name": "python3"
  },
  "language_info": {
   "codemirror_mode": {
    "name": "ipython",
    "version": 3
   },
   "file_extension": ".py",
   "mimetype": "text/x-python",
   "name": "python",
   "nbconvert_exporter": "python",
   "pygments_lexer": "ipython3",
   "version": "3.10.12"
  }
 },
 "nbformat": 4,
 "nbformat_minor": 2
}
