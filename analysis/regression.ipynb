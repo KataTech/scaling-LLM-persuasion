{
 "cells": [
  {
   "cell_type": "code",
   "execution_count": null,
   "id": "26a63ff0",
   "metadata": {},
   "outputs": [],
   "source": [
    "import numpy as np \n",
    "import matplotlib.pyplot as plt\n",
    "import pandas as pd\n",
    "import seaborn as sns \n",
    "sns.set_theme(\"whitegrid\")\n",
    "\n",
    "### stats analysis imports \n",
    "import statsmodels.formula.api as smf\n",
    "\n",
    "SEED = 125"
   ]
  },
  {
   "cell_type": "code",
   "execution_count": null,
   "id": "c36bf198",
   "metadata": {},
   "outputs": [],
   "source": [
    "def print_df_info(df, name):\n",
    "    print(f\"{name}\")\n",
    "    print(f\"shape: {df.shape}\")\n",
    "    print(f\"columns: {df.columns}\")\n",
    "    print()"
   ]
  },
  {
   "cell_type": "markdown",
   "id": "bf1e2efa",
   "metadata": {},
   "source": [
    "# 1. Effect of Persuasion Techniques on Persuasiveness"
   ]
  },
  {
   "cell_type": "code",
   "execution_count": null,
   "id": "85a968d3",
   "metadata": {},
   "outputs": [],
   "source": [
    "persuasive_strategies_df = pd.read_csv(\"llm_responses_labeled.csv\", index_col=0)\n",
    "treatment_df = pd.read_csv(\"final_data_processed.csv\", index_col = 0)"
   ]
  },
  {
   "cell_type": "code",
   "execution_count": null,
   "id": "5d3790d4",
   "metadata": {},
   "outputs": [],
   "source": [
    "print_df_info(treatment_df, \"treatment_df\")\n",
    "print(\"Number of unique treatment messages: \", treatment_df['treatment_message_id'].nunique())\n",
    "treatment_df.head()"
   ]
  },
  {
   "cell_type": "code",
   "execution_count": null,
   "id": "047cca5f",
   "metadata": {},
   "outputs": [],
   "source": [
    "# for every row in treatment_df, take the entry `treatment_message` and find a match for it in persuasive_strategies_df['response']. If a match is found, copy over the persuasive strategies columns to treatment_df. \n",
    "# If no match is found, fill the persuasive strategies columns with NaN. \n",
    "# After this operation, treatment_df should have the same number of rows, but with additional columns for persuasive strategies.\n",
    "merged_df = treatment_df.merge(persuasive_strategies_df, left_on='treatment_message', right_on='response', how='left')\n",
    "\n",
    "# Print out the `treatment_message` values that did not find a match.\n",
    "unmatched_subset = merged_df[merged_df['central'].isna()] \n",
    "print(\"Unmatched entries:\", unmatched_subset['treatment_message'].unique())\n",
    "\n",
    "# It appears that all of the unmatched entries are due to missing treatment messages (these are folks who expressed their position without receiving a treatment -- either from human or AI).\n",
    "# We can fill in the persuasive strategy columns with 0 for these rows, since they received no persuasive strategies.\n",
    "roles_with_notreatment = merged_df['treatment_message'].isna()\n",
    "new_cols = ['attractiveness',\n",
    "       'authority', 'central', 'forewarning', 'gainframe', 'lossframe',\n",
    "       'partisan', 'partisanship', 'peripheral', 'refutation', 'religion',\n",
    "       'repetition']\n",
    "merged_df.loc[roles_with_notreatment, new_cols] = 0\n",
    "# However, we should make a separate indicator for no treatment too. \n",
    "merged_df['no_treatment'] = 0 \n",
    "merged_df.loc[roles_with_notreatment, 'no_treatment'] = 1\n",
    "\n",
    "print_df_info(merged_df, \"merged_df\")\n",
    "merged_df.head()    "
   ]
  },
  {
   "cell_type": "code",
   "execution_count": null,
   "id": "94a9783d",
   "metadata": {},
   "outputs": [],
   "source": [
    "X  = merged_df.drop(columns=['issue', 'issue_full', 'issue_stance_full', 'treatment_message_id', 'treatment_message', 'condition', 'model', 'dv_response_mean', 'response'])\n",
    "y = merged_df['dv_response_mean']\n",
    "print(\"Number of features: \", X.shape[1])\n",
    "print(\"Number of samples: \", X.shape[0])\n",
    "print(\"Feature columns: \", X.columns)"
   ]
  },
  {
   "cell_type": "code",
   "execution_count": null,
   "id": "f7600ad4",
   "metadata": {},
   "outputs": [],
   "source": [
    "# what is the distribution of Y?\n",
    "plt.hist(y)\n",
    "plt.title(\"Distribution of response variable\")\n",
    "plt.show()"
   ]
  },
  {
   "cell_type": "markdown",
   "id": "eebb5df9",
   "metadata": {},
   "source": [
    "## 1.1 Naive regression on all covariates"
   ]
  },
  {
   "cell_type": "code",
   "execution_count": null,
   "id": "aa16ed21",
   "metadata": {},
   "outputs": [],
   "source": [
    "import statsmodels.formula.api as smf\n",
    "\n",
    "cols = list(merged_df.columns)\n",
    "start_idx = cols.index(\"attractiveness\")\n",
    "cat_vars = cols[start_idx:]\n",
    "\n",
    "formula = \"dv_response_mean ~ age + C(education) + C(gender) + C(party_affiliation) + \\\n",
    "           C(ideo_affiliation) + political_knowledge + treatment_message_word_count + \\\n",
    "           \" + \" + \".join([f\"C({c})\" for c in cat_vars])\n",
    "\n",
    "model = smf.ols(\n",
    "    formula,\n",
    "    data=merged_df\n",
    ").fit(cov_type=\"HC3\")   # robust SEs\n",
    "print(model.summary())\n"
   ]
  },
  {
   "cell_type": "markdown",
   "id": "420c931e",
   "metadata": {},
   "source": [
    "## 1.2 Variance Inflation Factor (VIF) to detect collinear features! "
   ]
  },
  {
   "cell_type": "code",
   "execution_count": null,
   "id": "6915096b",
   "metadata": {},
   "outputs": [],
   "source": []
  },
  {
   "cell_type": "code",
   "execution_count": null,
   "id": "b6cd486a",
   "metadata": {},
   "outputs": [],
   "source": []
  },
  {
   "cell_type": "markdown",
   "id": "eb63d4b7",
   "metadata": {},
   "source": [
    "# 2. Aggregate Analysis"
   ]
  },
  {
   "cell_type": "code",
   "execution_count": null,
   "id": "c407de46",
   "metadata": {},
   "outputs": [],
   "source": []
  }
 ],
 "metadata": {
  "kernelspec": {
   "display_name": "llm",
   "language": "python",
   "name": "python3"
  },
  "language_info": {
   "codemirror_mode": {
    "name": "ipython",
    "version": 3
   },
   "file_extension": ".py",
   "mimetype": "text/x-python",
   "name": "python",
   "nbconvert_exporter": "python",
   "pygments_lexer": "ipython3",
   "version": "3.13.5"
  }
 },
 "nbformat": 4,
 "nbformat_minor": 5
}
